{
 "cells": [
  {
   "cell_type": "markdown",
   "metadata": {},
   "source": [
    "## Loading Parking Violation Data and cleaning operations"
   ]
  },
  {
   "cell_type": "code",
   "execution_count": 1,
   "metadata": {
    "collapsed": false
   },
   "outputs": [],
   "source": [
    "import pandas as pd\n",
    "from collections import namedtuple"
   ]
  },
  {
   "cell_type": "code",
   "execution_count": 52,
   "metadata": {
    "collapsed": false
   },
   "outputs": [],
   "source": [
    "pd.set_option('display.max_columns', 500)"
   ]
  },
  {
   "cell_type": "code",
   "execution_count": 8,
   "metadata": {
    "collapsed": false
   },
   "outputs": [],
   "source": [
    "may_2016 = \"http://opendata.dc.gov/datasets/2e967e9053144a309680fccea0f7b4e1_11.csv\"\n",
    "file_name = 'Parking_violations_may_2016.csv'"
   ]
  },
  {
   "cell_type": "code",
   "execution_count": null,
   "metadata": {
    "collapsed": false
   },
   "outputs": [],
   "source": []
  },
  {
   "cell_type": "markdown",
   "metadata": {},
   "source": [
    "### Combine all csvs into one data frame"
   ]
  },
  {
   "cell_type": "code",
   "execution_count": 9,
   "metadata": {
    "collapsed": false
   },
   "outputs": [],
   "source": [
    "df = pd.read_csv(may_2016,index_col=None, header=0)\n",
    "df.columns = [col.lower() for col in df.columns]\n",
    "df = df.reset_index(drop=True)"
   ]
  },
  {
   "cell_type": "markdown",
   "metadata": {},
   "source": [
    "### Construct datetime object from issue_time raw string"
   ]
  },
  {
   "cell_type": "code",
   "execution_count": 10,
   "metadata": {
    "collapsed": false
   },
   "outputs": [],
   "source": [
    "def mil_to_time(x):\n",
    "    \"Convert messy issue_time to datetime object based upon length of issue_time string\"\n",
    "    if x == 'nan':\n",
    "        return '00:00:00.000Z'\n",
    "        \n",
    "    x = x.split('.')[0]\n",
    "    lg = len(x)\n",
    "    \n",
    "    if lg == 4:\n",
    "        t = x[:2] + ':' + x[2:] + ':00.000Z'\n",
    "      \n",
    "    elif lg == 3:\n",
    "        t = '0' + x[0] + ':' + x[1:] + ':00.000Z'\n",
    "    \n",
    "    elif lg == 2:\n",
    "        t = '0' + '0' + ':' + x + ':00.000Z'\n",
    "    \n",
    "    elif lg == 1:\n",
    "        t = '0' + '0' + ':' + '0' + x + ':00.000Z'\n",
    "    \n",
    "    else:\n",
    "        t = '00:00.000Z'\n",
    "    \n",
    "    # correction for timedate if one element is greater than 5.\n",
    "    # double check this\n",
    "    if int(t[3]) > 5:\n",
    "        t = t[:2]+ ':' + '5' + t[4:]\n",
    "        \n",
    "    return t"
   ]
  },
  {
   "cell_type": "code",
   "execution_count": 11,
   "metadata": {
    "collapsed": false
   },
   "outputs": [],
   "source": [
    "df['issue_time_military'] = df.issue_time.apply(str).apply(mil_to_time)\n",
    "dates = df.ticket_issue_date.str[:10] + 'T' #+ \n",
    "df['filename'] = file_name\n",
    "df['ticket_issue_datetime'] = dates + df.issue_time_military"
   ]
  },
  {
   "cell_type": "markdown",
   "metadata": {},
   "source": [
    "### Optional Test that datetime contruction is correct"
   ]
  },
  {
   "cell_type": "code",
   "execution_count": 57,
   "metadata": {
    "collapsed": true
   },
   "outputs": [],
   "source": [
    "## Testing datetime format to ensure that everything is actually datetime\n",
    "# for i, t in enumerate(df.ticket_issue_datetime):\n",
    "#     try:\n",
    "#         pd.to_datetime(t)\n",
    "#     except:\n",
    "#         print i, t"
   ]
  },
  {
   "cell_type": "markdown",
   "metadata": {},
   "source": [
    "### Holiday value to Boolean"
   ]
  },
  {
   "cell_type": "code",
   "execution_count": 12,
   "metadata": {
    "collapsed": true
   },
   "outputs": [],
   "source": [
    "df['holiday'] = df.holiday != 0"
   ]
  },
  {
   "cell_type": "markdown",
   "metadata": {},
   "source": [
    "### Delete redundant columns"
   ]
  },
  {
   "cell_type": "code",
   "execution_count": 41,
   "metadata": {
    "collapsed": false
   },
   "outputs": [],
   "source": [
    "# del df['day_of_week']\n",
    "# del df['month_of_year']\n",
    "# del df['week_of_year']\n",
    "# del df['issue_time']\n",
    "# del df['issue_time_military']\n",
    "# del df['ticket_issue_date']"
   ]
  },
  {
   "cell_type": "code",
   "execution_count": 13,
   "metadata": {
    "collapsed": true
   },
   "outputs": [],
   "source": [
    "df.drop(['day_of_week', 'month_of_year', 'week_of_year', 'issue_time', 'issue_time_military', 'ticket_issue_date'   ], axis=1, inplace=True, errors='ignore')\n"
   ]
  },
  {
   "cell_type": "markdown",
   "metadata": {},
   "source": [
    "### Drop Duplicates and Fill in Empy Rows"
   ]
  },
  {
   "cell_type": "code",
   "execution_count": 14,
   "metadata": {
    "collapsed": true
   },
   "outputs": [],
   "source": [
    "df.drop_duplicates(subset='rowid_', inplace=True)\n",
    "df.streetsegid.fillna(0, inplace=True)"
   ]
  },
  {
   "cell_type": "markdown",
   "metadata": {
    "collapsed": false
   },
   "source": [
    "### Export to CSV"
   ]
  },
  {
   "cell_type": "code",
   "execution_count": 16,
   "metadata": {
    "collapsed": false
   },
   "outputs": [
    {
     "name": "stdout",
     "output_type": "stream",
     "text": [
      "<class 'pandas.core.frame.DataFrame'>\n",
      "Int64Index: 132850 entries, 0 to 132849\n",
      "Data columns (total 16 columns):\n",
      "﻿x                       132850 non-null float64\n",
      "y                        132850 non-null float64\n",
      "objectid                 132850 non-null int64\n",
      "rowid_                   132850 non-null int64\n",
      "holiday                  132850 non-null bool\n",
      "violation_code           132850 non-null object\n",
      "violation_description    128535 non-null object\n",
      "location                 132850 non-null object\n",
      "rp_plate_state           132207 non-null object\n",
      "body_style               131840 non-null object\n",
      "address_id               132850 non-null int64\n",
      "streetsegid              132850 non-null float64\n",
      "xcoord                   132850 non-null int64\n",
      "ycoord                   132850 non-null int64\n",
      "filename                 132850 non-null object\n",
      "ticket_issue_datetime    132850 non-null object\n",
      "dtypes: bool(1), float64(3), int64(5), object(7)\n",
      "memory usage: 16.3+ MB\n"
     ]
    }
   ],
   "source": [
    "df.info()"
   ]
  },
  {
   "cell_type": "code",
   "execution_count": null,
   "metadata": {
    "collapsed": false
   },
   "outputs": [],
   "source": []
  },
  {
   "cell_type": "code",
   "execution_count": 17,
   "metadata": {
    "collapsed": true
   },
   "outputs": [],
   "source": [
    "Parking = namedtuple('Parking', 'x, y, objectid, rowid, holiday, violation_code, \\\n",
    "                    violation_description, location, rp_plate_state, body_style, \\\n",
    "                    address_id, streetsegid, xcoord, ycoord, filename, \\\n",
    "                    ticket_issue_datetime')"
   ]
  },
  {
   "cell_type": "code",
   "execution_count": 22,
   "metadata": {
    "collapsed": true
   },
   "outputs": [],
   "source": []
  },
  {
   "cell_type": "code",
   "execution_count": 18,
   "metadata": {
    "collapsed": false
   },
   "outputs": [],
   "source": [
    "rows = []\n",
    "for index, row in df.iterrows():\n",
    "    row = Parking._make(row)\n",
    "    rows.append(row)"
   ]
  },
  {
   "cell_type": "code",
   "execution_count": 19,
   "metadata": {
    "collapsed": false
   },
   "outputs": [
    {
     "data": {
      "text/plain": [
       "132850"
      ]
     },
     "execution_count": 19,
     "metadata": {},
     "output_type": "execute_result"
    }
   ],
   "source": [
    "len(rows)"
   ]
  },
  {
   "cell_type": "code",
   "execution_count": null,
   "metadata": {
    "collapsed": true
   },
   "outputs": [],
   "source": []
  },
  {
   "cell_type": "code",
   "execution_count": null,
   "metadata": {
    "collapsed": true
   },
   "outputs": [],
   "source": []
  },
  {
   "cell_type": "code",
   "execution_count": null,
   "metadata": {
    "collapsed": false
   },
   "outputs": [],
   "source": []
  },
  {
   "cell_type": "code",
   "execution_count": 20,
   "metadata": {
    "collapsed": true
   },
   "outputs": [],
   "source": [
    "df.to_csv('sample.csv')"
   ]
  },
  {
   "cell_type": "code",
   "execution_count": null,
   "metadata": {
    "collapsed": true
   },
   "outputs": [],
   "source": []
  }
 ],
 "metadata": {
  "kernelspec": {
   "display_name": "Python 3",
   "language": "python",
   "name": "python3"
  },
  "language_info": {
   "codemirror_mode": {
    "name": "ipython",
    "version": 3
   },
   "file_extension": ".py",
   "mimetype": "text/x-python",
   "name": "python",
   "nbconvert_exporter": "python",
   "pygments_lexer": "ipython3",
   "version": "3.5.2"
  }
 },
 "nbformat": 4,
 "nbformat_minor": 0
}
